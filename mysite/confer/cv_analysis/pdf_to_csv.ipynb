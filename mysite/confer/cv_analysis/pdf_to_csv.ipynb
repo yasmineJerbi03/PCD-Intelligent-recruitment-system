{
 "cells": [
  {
   "cell_type": "code",
   "execution_count": 1,
   "metadata": {
    "colab": {
     "base_uri": "https://localhost:8080/"
    },
    "executionInfo": {
     "elapsed": 6785,
     "status": "ok",
     "timestamp": 1619111960758,
     "user": {
      "displayName": "Jerbi Yasmine",
      "photoUrl": "",
      "userId": "07525402250158164188"
     },
     "user_tz": -60
    },
    "id": "DVYEBj2fQb4c",
    "outputId": "1ece42c1-a4ef-4e29-9bc7-0ea5d8925e5e"
   },
   "outputs": [
    {
     "name": "stdout",
     "output_type": "stream",
     "text": [
      "Requirement already satisfied: pdfminer in c:\\users\\hp\\anaconda3\\lib\\site-packages (20191125)\n",
      "Requirement already satisfied: pycryptodome in c:\\users\\hp\\anaconda3\\lib\\site-packages (from pdfminer) (3.10.1)\n",
      "Requirement already satisfied: pypdf2 in c:\\users\\hp\\anaconda3\\lib\\site-packages (1.26.0)\n"
     ]
    }
   ],
   "source": [
    "!pip install pdfminer\n",
    "!pip install pypdf2"
   ]
  },
  {
   "cell_type": "code",
   "execution_count": 2,
   "metadata": {
    "executionInfo": {
     "elapsed": 6780,
     "status": "ok",
     "timestamp": 1619111960759,
     "user": {
      "displayName": "Jerbi Yasmine",
      "photoUrl": "",
      "userId": "07525402250158164188"
     },
     "user_tz": -60
    },
    "id": "bPDJXrcURWCe"
   },
   "outputs": [],
   "source": [
    "import re\n",
    "from re import search\n",
    "import os\n",
    "from sklearn.preprocessing import scale\n",
    "\n",
    "from pdfminer.pdfinterp import PDFResourceManager, PDFPageInterpreter\n",
    "from pdfminer.layout import LAParams\n",
    "from pdfminer.pdfpage import PDFPage\n",
    "from pdfminer.converter import HTMLConverter\n",
    "from io import StringIO\n",
    "from bs4 import BeautifulSoup\n",
    "import PyPDF2\n",
    "import xlwt\n",
    "#from main import scanner\n",
    "import pandas as pd\n",
    "import numpy as np"
   ]
  },
  {
   "cell_type": "code",
   "execution_count": 3,
   "metadata": {
    "executionInfo": {
     "elapsed": 6776,
     "status": "ok",
     "timestamp": 1619111960759,
     "user": {
      "displayName": "Jerbi Yasmine",
      "photoUrl": "",
      "userId": "07525402250158164188"
     },
     "user_tz": -60
    },
    "id": "OBmiTeL4bJKZ"
   },
   "outputs": [],
   "source": [
    "def conversion_html(path):\n",
    "    Manager = PDFResourceManager()\n",
    "    string_io = StringIO()\n",
    "    laparams = LAParams()\n",
    "    device = HTMLConverter(Manager, string_io, laparams=laparams)\n",
    "    fp = open(path, 'rb')\n",
    "    interpreter = PDFPageInterpreter(Manager, device)\n",
    "    password = \"\"\n",
    "    maxpages = 0\n",
    "    caching = True\n",
    "    pagenos = set()\n",
    "    for page in PDFPage.get_pages(fp, pagenos, maxpages=maxpages, password=password, caching=caching,\n",
    "                                  check_extractable=True):\n",
    "        interpreter.process_page(page)\n",
    "\n",
    "    fp.close()\n",
    "    device.close()\n",
    "    text = string_io.getvalue()\n",
    "    return text"
   ]
  },
  {
   "cell_type": "code",
   "execution_count": 4,
   "metadata": {
    "executionInfo": {
     "elapsed": 7071,
     "status": "ok",
     "timestamp": 1619111961059,
     "user": {
      "displayName": "Jerbi Yasmine",
      "photoUrl": "",
      "userId": "07525402250158164188"
     },
     "user_tz": -60
    },
    "id": "Pys3g_PDdJIU"
   },
   "outputs": [],
   "source": [
    "def data_manipulation(html, res):\n",
    "    soup = BeautifulSoup(html, 'html.parser')\n",
    "    if res == 0:\n",
    "        return soup.get_text()\n",
    "    pix = re.compile(\"font-size:(\\d+)\")\n",
    "    if res == 1:\n",
    "        empty = []\n",
    "        font_size = {}\n",
    "        for tag in soup.select(\"[style*=font-size]\"):\n",
    "            font_size[tag.text.strip()] = pix.search(tag[\"style\"]).group(1)\n",
    "        for cle in font_size.keys():\n",
    "            if str(cle) == '':\n",
    "                empty.append(cle)\n",
    "        for i in empty:\n",
    "            del font_size[i]\n",
    "        return font_size\n",
    "    if res == 2:\n",
    "        empty = []\n",
    "        font_family = {}\n",
    "        pix = re.compile(\"font-family:(\\s\\w+)([\\s,+\\w+,-]*)\")\n",
    "        for tag in soup.select(\"[style*=font-family]\"):\n",
    "            font_family[tag.text.strip()] = pix.search(tag[\"style\"]).group()\n",
    "        for cle in font_family.keys():\n",
    "            if str(cle) == '':\n",
    "                empty.append(cle)\n",
    "        for i in empty:\n",
    "            del font_family[i]\n",
    "        return font_family"
   ]
  },
  {
   "cell_type": "code",
   "execution_count": 5,
   "metadata": {
    "executionInfo": {
     "elapsed": 7368,
     "status": "ok",
     "timestamp": 1619111961359,
     "user": {
      "displayName": "Jerbi Yasmine",
      "photoUrl": "",
      "userId": "07525402250158164188"
     },
     "user_tz": -60
    },
    "id": "IdfzY7mked_t"
   },
   "outputs": [],
   "source": [
    "def data_manipulation(html, res):\n",
    "    soup = BeautifulSoup(html, 'html.parser')\n",
    "    if res == 0:\n",
    "        return soup.get_text()\n",
    "    pix = re.compile(\"font-size:(\\d+)\")\n",
    "    if res == 1:\n",
    "        empty = []\n",
    "        font_size = {}\n",
    "        for tag in soup.select(\"[style*=font-size]\"):\n",
    "            font_size[tag.text.strip()] = pix.search(tag[\"style\"]).group(1)\n",
    "        for cle in font_size.keys():\n",
    "            if str(cle) == '':\n",
    "                empty.append(cle)\n",
    "        for i in empty:\n",
    "            del font_size[i]\n",
    "        return font_size\n",
    "    if res == 2:\n",
    "        empty = []\n",
    "        font_family = {}\n",
    "        pix = re.compile(\"font-family:(\\s\\w+)([\\s,+\\w+,-]*)\")\n",
    "        for tag in soup.select(\"[style*=font-family]\"):\n",
    "            font_family[tag.text.strip()] = pix.search(tag[\"style\"]).group()\n",
    "        for cle in font_family.keys():\n",
    "            if str(cle) == '':\n",
    "                empty.append(cle)\n",
    "        for i in empty:\n",
    "            del font_family[i]\n",
    "        return font_family\n"
   ]
  },
  {
   "cell_type": "code",
   "execution_count": 6,
   "metadata": {
    "executionInfo": {
     "elapsed": 7368,
     "status": "ok",
     "timestamp": 1619111961361,
     "user": {
      "displayName": "Jerbi Yasmine",
      "photoUrl": "",
      "userId": "07525402250158164188"
     },
     "user_tz": -60
    },
    "id": "K0uwbZv2eAFp"
   },
   "outputs": [],
   "source": [
    "def data_cleaning(path,i):\n",
    "    dict = data_manipulation(conversion_html(path), i)\n",
    "    pop_list = []\n",
    "    dict1 = {}\n",
    "    dict_n = []\n",
    "    for cle in dict.keys():\n",
    "        cle=str(cle).replace('\\n','  ')\n",
    "        if len(str(cle)) <= 3:\n",
    "            pop_list.append(cle)\n",
    "    for i in range(0, len(pop_list)):\n",
    "        dict.pop(pop_list[i])\n",
    "    for cle1 in dict.keys():\n",
    "        cle1 = re.sub('[^A-Za-z0-9 ' ' | éèà À Á Â Æ Ç È É Ê Ë Ì Í Î Ï Ñ Ò Ó Ô Œ Ù Ú Û Ü Ý Ÿà á â æ ç è é ê'\n",
    "                      '\të ì\tí î\tï ñ\tò ó\tô œ\tù ú\tû ü\tý ÿ]+', '', str(cle1))\n",
    "        cle1 = re.sub('[\" \"][\" \"]+','  ',str(cle1))\n",
    "        dict_n.append(cle1)\n",
    "    s = 0\n",
    "    for value in dict.values():\n",
    "        dict1[dict_n[s]] = value\n",
    "        s=s+1\n",
    "    pop_list = []\n",
    "    for cle in dict1.keys():\n",
    "        if str(cle).startswith(','):\n",
    "            cle = str(cle).replace(',', ' ', 1)\n",
    "        if len(str(cle)) <= 3:\n",
    "            pop_list.append(cle)\n",
    "    for i in range(0, len(pop_list)):\n",
    "        dict1.pop(pop_list[i])\n",
    "\n",
    "    return dict1\n"
   ]
  },
  {
   "cell_type": "code",
   "execution_count": null,
   "metadata": {
    "colab": {
     "base_uri": "https://localhost:8080/"
    },
    "executionInfo": {
     "elapsed": 11175,
     "status": "ok",
     "timestamp": 1619111965172,
     "user": {
      "displayName": "Jerbi Yasmine",
      "photoUrl": "",
      "userId": "07525402250158164188"
     },
     "user_tz": -60
    },
    "id": "K83D1HQOAY5m",
    "outputId": "4c8df613-ebef-4a67-b242-0b06ecab10df"
   },
   "outputs": [],
   "source": [
    "conda install -c conda-forge python-levenshtein"
   ]
  },
  {
   "cell_type": "code",
   "execution_count": 7,
   "metadata": {
    "executionInfo": {
     "elapsed": 11172,
     "status": "ok",
     "timestamp": 1619111965173,
     "user": {
      "displayName": "Jerbi Yasmine",
      "photoUrl": "",
      "userId": "07525402250158164188"
     },
     "user_tz": -60
    },
    "id": "Q1KK6Bjyhu6V"
   },
   "outputs": [],
   "source": [
    "import nltk\n",
    "from Levenshtein import distance"
   ]
  },
  {
   "cell_type": "code",
   "execution_count": 8,
   "metadata": {
    "executionInfo": {
     "elapsed": 11169,
     "status": "ok",
     "timestamp": 1619111965173,
     "user": {
      "displayName": "Jerbi Yasmine",
      "photoUrl": "",
      "userId": "07525402250158164188"
     },
     "user_tz": -60
    },
    "id": "uajFOBbqh9P7"
   },
   "outputs": [],
   "source": [
    "def nb_mots(chaine):\n",
    "    liste = chaine.split()\n",
    "    l = len(liste)\n",
    "    return l\n",
    "\n",
    "\n",
    "def case(chaine):\n",
    "    if chaine.isupper():\n",
    "        return 1\n",
    "    else:\n",
    "        return 0\n",
    "\n",
    "\n",
    "def font_size(path):\n",
    "    font_size = data_cleaning(path, 1)\n",
    "    s = 0\n",
    "    cles = 0\n",
    "    for value in font_size.values():\n",
    "        s = s + float(value)\n",
    "        cles = cles + 1\n",
    "    average = s / cles\n",
    "    for cle in font_size.keys():\n",
    "        if float(font_size[cle]) < average:\n",
    "            font_size[cle] = 0\n",
    "        else:\n",
    "            font_size[cle] = 1\n",
    "    return font_size\n",
    "\n",
    "\n",
    "def font_family(path):\n",
    "    i = 0\n",
    "    cles = 0\n",
    "    s = 0\n",
    "    font_family = data_cleaning(path, 2)\n",
    "    fonts = {}\n",
    "    for cle in font_family.keys():\n",
    "        for cle1 in font_family.keys():\n",
    "            if font_family[cle] == font_family[cle1]:\n",
    "                i = i + 1\n",
    "        fonts[font_family[cle]] = i\n",
    "        i = 0\n",
    "    for cle in fonts.keys():\n",
    "        cles = cles + 1\n",
    "        s = s + fonts[cle]\n",
    "    average = s / cles\n",
    "    for cle in fonts.keys():\n",
    "        if float(fonts[cle]) < average:\n",
    "            fonts[cle] = 0\n",
    "        else:\n",
    "            fonts[cle] = 1\n",
    "    for cle in font_family.keys():\n",
    "        font_family[cle] = fonts[font_family[cle]]\n",
    "    return (font_family)\n",
    "\n",
    "\n",
    "def bold_exist(path):\n",
    "    font_family = data_cleaning(path, 2)\n",
    "    for cle in font_family.keys():\n",
    "        if \"Bold\" in font_family[cle] or \"bold\" in font_family[cle]:\n",
    "            font_family[cle]=1\n",
    "        else:\n",
    "            font_family[cle]=0\n",
    "    return font_family\n",
    "\n",
    "def nb_noms(chaine):\n",
    "    s = 0\n",
    "    tab = nltk.pos_tag(nltk.word_tokenize(chaine))\n",
    "    for i in range(0, len(tab)):\n",
    "        fonc = tab[i][1]\n",
    "        if fonc.startswith('NN'):\n",
    "            s = s + 1\n",
    "    return s\n",
    "\n",
    "\n",
    "def nb_VERBS(chaine):\n",
    "    s = 0\n",
    "    tab = nltk.pos_tag(nltk.word_tokenize(chaine))\n",
    "    for i in range(0, len(tab)):\n",
    "        fonc = tab[i][1]\n",
    "        if fonc.startswith('VB'):\n",
    "            s = s + 1\n",
    "    return s\n",
    "\n",
    "\n",
    "def cmp(chaine1, chaine2):\n",
    "    chaine2 = chaine2.replace('/n', '')\n",
    "    edit_dist = distance(chaine1, chaine2)\n",
    "    return edit_dist\n"
   ]
  },
  {
   "cell_type": "code",
   "execution_count": 9,
   "metadata": {
    "executionInfo": {
     "elapsed": 11167,
     "status": "ok",
     "timestamp": 1619111965174,
     "user": {
      "displayName": "Jerbi Yasmine",
      "photoUrl": "",
      "userId": "07525402250158164188"
     },
     "user_tz": -60
    },
    "id": "T5y79cX9iKWK"
   },
   "outputs": [],
   "source": [
    "def to_excel(max):\n",
    "    workbook = xlwt.Workbook()\n",
    "    for j in range(1,max+1):\n",
    "        sheet = workbook.add_sheet(f'{j}', cell_overwrite_ok=True)\n",
    "        f = 0\n",
    "        list = ['bloc', 'label', 'font_size', 'font_family', 'nb_mots', 'nb_verbes', 'nb_noms', 'case', 'bold']\n",
    "        for i in range(0, 9):\n",
    "            sheet.write(0, f, list[i])\n",
    "            f = f + 1\n",
    "        dict = data_cleaning(f'dataset_resume/data/{j}.pdf',2)\n",
    "        size = font_size(f'dataset_resume/data/{j}.pdf')\n",
    "        family = font_family(f'dataset_resume/data/{j}.pdf')\n",
    "        bold = bold_exist(f'dataset_resume/data/{j}.pdf')\n",
    "        i = 1\n",
    "        for cle in dict.keys():\n",
    "            sheet.write(i, 0, cle)\n",
    "            sheet.write(i,4,nb_mots(cle))\n",
    "            sheet.write(i,5,nb_VERBS(cle))\n",
    "            sheet.write(i,6,nb_noms(cle))\n",
    "            sheet.write(i,7,case(cle))\n",
    "\n",
    "\n",
    "\n",
    "\n",
    "            i = i + 1\n",
    "        i=1\n",
    "        for cle in size.keys():\n",
    "            sheet.write(i,2,size[cle])\n",
    "            i=i+1\n",
    "        i=1\n",
    "        for cle in family.keys():\n",
    "            sheet.write(i,3,family[cle])\n",
    "            i=i+1\n",
    "\n",
    "        i = 1\n",
    "        for cle in bold.keys():\n",
    "            sheet.write(i, 8, bold[cle])\n",
    "            i = i + 1\n",
    "\n",
    "    workbook.save('dataset_resume/resume.xls')\n"
   ]
  },
  {
   "cell_type": "code",
   "execution_count": 10,
   "metadata": {
    "executionInfo": {
     "elapsed": 11165,
     "status": "ok",
     "timestamp": 1619111965174,
     "user": {
      "displayName": "Jerbi Yasmine",
      "photoUrl": "",
      "userId": "07525402250158164188"
     },
     "user_tz": -60
    },
    "id": "OLeErOyrjsl5"
   },
   "outputs": [],
   "source": [
    "def input_cv(path,id):\n",
    "  workbook = xlwt.Workbook()\n",
    "  sheet = workbook.add_sheet('1', cell_overwrite_ok=True)\n",
    "  f = 0\n",
    "  list = ['bloc', 'label', 'font_size', 'font_family', 'nb_mots', 'nb_verbes', 'nb_noms', 'case', 'bold']\n",
    "  for i in range(0, 9):\n",
    "      sheet.write(0, f, list[i])\n",
    "      f = f + 1\n",
    "\n",
    "  dict = data_manipulation(conversion_html(path),2)\n",
    "  size = font_size(path)\n",
    "  family = font_family(path)\n",
    "  bold = bold_exist(path)\n",
    "  i = 1\n",
    "  for cle in dict.keys():\n",
    "      sheet.write(i, 0, cle)\n",
    "      sheet.write(i,4,nb_mots(cle))\n",
    "      sheet.write(i,5,nb_VERBS(cle))\n",
    "      sheet.write(i,6,nb_noms(cle))\n",
    "      sheet.write(i,7,case(cle))\n",
    "      i = i + 1\n",
    "  i = 1\n",
    "  for cle in size.keys():\n",
    "      sheet.write(i, 2, size[cle])\n",
    "      i = i + 1\n",
    "  i = 1\n",
    "  for cle in family.keys():\n",
    "      sheet.write(i, 3, family[cle])\n",
    "      i = i + 1\n",
    "\n",
    "  i = 1\n",
    "  for cle in bold.keys():\n",
    "      sheet.write(i, 8, bold[cle])\n",
    "      i = i + 1\n",
    "  workbook.save(f'Uses/Resume/{id}.xls')\n",
    "\n",
    "  read_file = pd.read_excel(f'Uses/Resume/{id}.xls' ,index_col=None)\n",
    "  read_file.to_csv(f'Uses/Resume/{id}.csv', index=None, header=True)\n",
    "  df = pd.read_csv(f'Uses/Resume/{id}.csv', usecols=[j for j in range(1, 9)])\n",
    "  mat = df.to_numpy()\n",
    "  np.savetxt(f'Uses/Resume/{id}{id}.csv', mat, delimiter=\",\")\n",
    "  os.remove(f'Uses/Resume/{id}.csv')\n",
    "\n",
    "  \n",
    "\n"
   ]
  },
  {
   "cell_type": "code",
   "execution_count": 11,
   "metadata": {
    "colab": {
     "base_uri": "https://localhost:8080/"
    },
    "executionInfo": {
     "elapsed": 11162,
     "status": "ok",
     "timestamp": 1619111965175,
     "user": {
      "displayName": "Jerbi Yasmine",
      "photoUrl": "",
      "userId": "07525402250158164188"
     },
     "user_tz": -60
    },
    "id": "DWGh2059r8O-",
    "outputId": "8660c070-9315-4255-c945-5e57a216ee71"
   },
   "outputs": [
    {
     "name": "stderr",
     "output_type": "stream",
     "text": [
      "[nltk_data] Downloading package averaged_perceptron_tagger to\n",
      "[nltk_data]     C:\\Users\\HP\\AppData\\Roaming\\nltk_data...\n",
      "[nltk_data]   Unzipping taggers\\averaged_perceptron_tagger.zip.\n"
     ]
    },
    {
     "data": {
      "text/plain": [
       "True"
      ]
     },
     "execution_count": 11,
     "metadata": {},
     "output_type": "execute_result"
    }
   ],
   "source": [
    "nltk.download('averaged_perceptron_tagger')"
   ]
  },
  {
   "cell_type": "code",
   "execution_count": 12,
   "metadata": {
    "colab": {
     "base_uri": "https://localhost:8080/"
    },
    "executionInfo": {
     "elapsed": 11157,
     "status": "ok",
     "timestamp": 1619111965175,
     "user": {
      "displayName": "Jerbi Yasmine",
      "photoUrl": "",
      "userId": "07525402250158164188"
     },
     "user_tz": -60
    },
    "id": "qjLiDCYSBH9O",
    "outputId": "1c11f258-b0a9-43b7-b03d-e50cf2921406"
   },
   "outputs": [
    {
     "name": "stderr",
     "output_type": "stream",
     "text": [
      "[nltk_data] Downloading package punkt to\n",
      "[nltk_data]     C:\\Users\\HP\\AppData\\Roaming\\nltk_data...\n",
      "[nltk_data]   Unzipping tokenizers\\punkt.zip.\n"
     ]
    },
    {
     "data": {
      "text/plain": [
       "True"
      ]
     },
     "execution_count": 12,
     "metadata": {},
     "output_type": "execute_result"
    }
   ],
   "source": [
    " nltk.download('punkt')"
   ]
  },
  {
   "cell_type": "code",
   "execution_count": 13,
   "metadata": {
    "executionInfo": {
     "elapsed": 11979,
     "status": "ok",
     "timestamp": 1619111966001,
     "user": {
      "displayName": "Jerbi Yasmine",
      "photoUrl": "",
      "userId": "07525402250158164188"
     },
     "user_tz": -60
    },
    "id": "EJsnuUZjqL-6"
   },
   "outputs": [],
   "source": [
    "input_cv('Uses/Resume/aa.pdf',3)"
   ]
  },
  {
   "cell_type": "code",
   "execution_count": 15,
   "metadata": {
    "executionInfo": {
     "elapsed": 1250,
     "status": "ok",
     "timestamp": 1619113866625,
     "user": {
      "displayName": "Jerbi Yasmine",
      "photoUrl": "",
      "userId": "07525402250158164188"
     },
     "user_tz": -60
    },
    "id": "2yhSPREJaIZY"
   },
   "outputs": [],
   "source": [
    "def segmentation(segment):\n",
    "  read_file = pd.read_excel('Uses/Resume/segmentation.xls' ,index_col=None)\n",
    "  read_file.to_csv('Uses/Resume/segmentation.csv', index=None, header=True)\n",
    "  df1=pd.read_csv(\"Uses/Resume/segmentation.csv\",header=None)\n",
    "  liste = []\n",
    "  for i in range(0,len(df1[segment])):\n",
    "    if(str(df1[segment][i])) != 'nan':\n",
    "      liste.append(df1[segment][i])\n",
    "  return (liste)\n",
    "\n",
    "objective = segmentation(0)\n",
    "work = segmentation(1)\n",
    "education = segmentation(2)\n",
    "hard = segmentation(3)\n",
    "soft = segmentation(4)\n",
    "achievement = segmentation(5)\n"
   ]
  },
  {
   "cell_type": "code",
   "execution_count": 16,
   "metadata": {
    "executionInfo": {
     "elapsed": 1246,
     "status": "ok",
     "timestamp": 1619113866626,
     "user": {
      "displayName": "Jerbi Yasmine",
      "photoUrl": "",
      "userId": "07525402250158164188"
     },
     "user_tz": -60
    },
    "id": "opJUH4sUkV3H"
   },
   "outputs": [],
   "source": [
    "from sklearn.feature_extraction.text import TfidfVectorizer\n",
    "vectorizer = TfidfVectorizer()\n"
   ]
  },
  {
   "cell_type": "code",
   "execution_count": 17,
   "metadata": {
    "executionInfo": {
     "elapsed": 1243,
     "status": "ok",
     "timestamp": 1619113866627,
     "user": {
      "displayName": "Jerbi Yasmine",
      "photoUrl": "",
      "userId": "07525402250158164188"
     },
     "user_tz": -60
    },
    "id": "QT2psdf4aXaH"
   },
   "outputs": [],
   "source": [
    "def similarite(seg_cv,segment):\n",
    "  \n",
    "  res = []\n",
    "  for i in range (0,len(segment)):\n",
    "    X = vectorizer.fit_transform([segment[i],seg_cv])\n",
    "    tfidf = ((X*X.T).A)[0,1]\n",
    "    res.append(tfidf)\n",
    "  return(max(res))"
   ]
  },
  {
   "cell_type": "code",
   "execution_count": 18,
   "metadata": {
    "executionInfo": {
     "elapsed": 1238,
     "status": "ok",
     "timestamp": 1619113866627,
     "user": {
      "displayName": "Jerbi Yasmine",
      "photoUrl": "",
      "userId": "07525402250158164188"
     },
     "user_tz": -60
    },
    "id": "022dKaV5acT2"
   },
   "outputs": [],
   "source": [
    "def bloc_recognition(seg_cv):\n",
    "  obj = similarite(seg_cv,objective)\n",
    "  w = similarite(seg_cv,work)\n",
    "  ed = similarite(seg_cv,education)\n",
    "  h = similarite(seg_cv,hard)\n",
    "  so = similarite(seg_cv,soft)\n",
    "  ach = similarite(seg_cv,achievement)\n",
    "  f = (max(obj,w,ed,h,so,ach))\n",
    "  if(obj==f and f>0.5):\n",
    "    return('Profil')\n",
    "  if(w==f and f>0.5):\n",
    "    return('Experience professionelle')\n",
    "  if(ed==f and f>0.5):\n",
    "    return('Expérience académique')\n",
    "  if(h==f and f>0.5):\n",
    "    return('Hard skills et projets')\n",
    "  if(so==f and f>0.5):\n",
    "    return('Soft skills')\n",
    "  if(ach==f and f>0.5):\n",
    "    return('certifications et compétitions')\n",
    "  else:\n",
    "    return(' ')\n",
    "\n"
   ]
  },
  {
   "cell_type": "code",
   "execution_count": 19,
   "metadata": {
    "executionInfo": {
     "elapsed": 715,
     "status": "ok",
     "timestamp": 1619114166457,
     "user": {
      "displayName": "Jerbi Yasmine",
      "photoUrl": "",
      "userId": "07525402250158164188"
     },
     "user_tz": -60
    },
    "id": "cod18xw7WYGg"
   },
   "outputs": [],
   "source": [
    "def segment(id_candidat,path):\n",
    "  from tensorflow.keras.models import load_model\n",
    "  saved_model = load_model('Uses/models/model13.h5')\n",
    "  input_cv(path,id_candidat)\n",
    "  df1=pd.read_csv(f'Uses/Resume/{id_candidat}{id_candidat}.csv',header=None)\n",
    "  x1 = df1.drop(0,axis=1)\n",
    "  x_pred1 = scale(x1)\n",
    "  predictions1 = saved_model.predict(x_pred1)\n",
    "  p1 =np.argmax(predictions1, axis=1)\n",
    "  \n",
    "  vectorizer = TfidfVectorizer()\n",
    "  dict_cv= data_manipulation(conversion_html(path),2)\n",
    "  d = dict_cv\n",
    "  text = []\n",
    "  for cle in d:\n",
    "    text.append(cle)\n",
    "  \n",
    "  headlines = []\n",
    "  for i in range(0,len(text)):\n",
    "    if(p1[i]==1):\n",
    "      headlines.append(text[i])\n",
    "  \n",
    "  liste1 = []\n",
    "  for i in range(0,len(headlines)):\n",
    "    a = bloc_recognition(headlines[i])\n",
    "    liste1.append(a)\n",
    "  for cle in d:\n",
    "    if (cle not in headlines):\n",
    "      if((similarite(cle,work))>0.5):\n",
    "        headlines.append(cle)\n",
    "        liste1.append('Experience professionelle')\n",
    "\n",
    "      if((similarite(cle,objective))>0.5):\n",
    "        headlines.append(cle)\n",
    "        liste1.append('Profil')\n",
    "        \n",
    "      if similarite(str(cle),education)> 0.5:\n",
    "        headlines.append(cle)\n",
    "        liste1.append('Expérience académique')\n",
    "\n",
    "      if(similarite(cle,hard)>0.5):\n",
    "        headlines.append(cle)\n",
    "        liste1.append('Hard skills et projets')\n",
    "\n",
    "      if(similarite(cle,soft)>0.5):\n",
    "        headlines.append(cle)\n",
    "        liste1.append('Soft skills')\n",
    "\n",
    "      if(similarite(cle,achievement)>0.5):\n",
    "        headlines.append(cle)\n",
    "        liste1.append('certifications et compétitions')\n",
    "    segments = []\n",
    "  for cle in d:\n",
    "    if (cle not in headlines ):\n",
    "      d[cle] = ' '\n",
    "    else:\n",
    "      index = headlines.index(cle)\n",
    "      d[cle] = liste1[index]\n",
    "    seg = {}\n",
    "  for cle in list(d):\n",
    "    if (d[cle]==' ') :\n",
    "      del d[cle]\n",
    "    else:\n",
    "      break\n",
    "  z = list(d)\n",
    "  for i in range(0,len(z)):\n",
    "    if(d[z[i]]!=' '):\n",
    "      seg[z[i]] = d[z[i]]\n",
    "      e = i+1\n",
    "      for j in range(e,len(z)):\n",
    "        if(d[z[j]]==' '):\n",
    "          seg[z[j]] =d[z[i]]\n",
    "            \n",
    "\n",
    "  for cle in list(seg):\n",
    "    if(cle in headlines):\n",
    "      del seg[cle]\n",
    "    \n",
    "  segment ={}\n",
    "  for cle in seg:\n",
    "    segment[seg[cle]] = ' '\n",
    "    \n",
    "  for cle in seg:\n",
    "    segment[seg[cle]] = segment[seg[cle]] + '\\n' +  cle\n",
    "  return(segment)\n",
    "    \n",
    " \n",
    " \n",
    " \n",
    "\n",
    "\n",
    "      \n",
    "  \n",
    "\n",
    "  \n",
    "\n",
    "  \n",
    "\n",
    "\n",
    "\n",
    "\n"
   ]
  },
  {
   "cell_type": "code",
   "execution_count": 22,
   "metadata": {
    "colab": {
     "base_uri": "https://localhost:8080/"
    },
    "executionInfo": {
     "elapsed": 13752,
     "status": "ok",
     "timestamp": 1619114183095,
     "user": {
      "displayName": "Jerbi Yasmine",
      "photoUrl": "",
      "userId": "07525402250158164188"
     },
     "user_tz": -60
    },
    "id": "eigutbO0tWu8",
    "outputId": "795f3df3-e063-403f-d3e0-af1ac4bf3f47"
   },
   "outputs": [
    {
     "name": "stdout",
     "output_type": "stream",
     "text": [
      "section : Hard skills et projets\n",
      " \n",
      "JAVA\n",
      "C\n",
      "C++\n",
      "PYTHON\n",
      "HTML\n",
      "CSS\n",
      "JavaScript\n",
      "PHP\n",
      "MySQL\n",
      "Oracle\n",
      "LINUX\n",
      "NETLOGO\n",
      "Hibernate\n",
      "Swing/AWT\n",
      "CodeBlocks\n",
      "Eclipse\n",
      "\n",
      "Arabe (Langue  Maternelle)\n",
      "Français  (Bilingüe)\n",
      "Anglais    (Professionnel)\n",
      "Allemand  (Notions  Scolaires)\n",
      "Une Simulation Robotique pour l'Expérimentation des Méthodes \n",
      "d'Apprentissage par Renforcement\n",
      "Février\n",
      "–\n",
      "Mai 2021\n",
      "Il s’agit d’expérimenter  plusieurs méthodes d'apprentissage par\n",
      "renforcement en vue d'une étude comparative de celles-ci.\n",
      "Key words\n",
      ":\n",
      "PROJET D’ETE\n",
      "Août - sept. 2020\n",
      "Cette application  permet à tous les étudiants de l'ENSI de récupérer un \n",
      "formulaire ou autre numériquement.\n",
      "JAV A, SWING, AWT, MySQL\n",
      "Jeu « Mots Meles »\n",
      "Avril\n",
      "juin 2020\n",
      "Il s’agit de retrouver l’ensemble des mots proposés dans la liste à côté\n",
      "de la grille.\n",
      "----------------------------\n",
      "section : Soft skills\n",
      " \n",
      "Sport\n",
      "Cinéma\n",
      "Arij SOULA\n",
      "Élève   ingénieure  en 2\n",
      "ème\n",
      "Année  Sciences de\n",
      "l’Informatique,\n",
      "A la recherche d’un stage d’été de 2 mois\n",
      "----------------------------\n",
      "section : Expérience académique\n",
      " \n",
      "Ecole Nationale des Sciences de l’Informatique\n",
      "-\n",
      "-Tunis\n",
      "Cycle d’\n",
      "Ingénieurs\n",
      "en Sciences  de l’I\n",
      "nformatique\n",
      "- 2019-\n",
      "Aujourd’hui\n",
      "Spécialité  :  Génie  Logiciel\n",
      "Institut Préparatoire aux Etudes d’Ingénieurs d’El Manar\n",
      "Tunis\n",
      "Cycle  préparatoire   en Maths  Physiques\n",
      "-2017-2019\n",
      "Baccalauréat  Mathématiques\n",
      "-2017\n",
      "----------------------------\n",
      "section : certifications et compétitions\n",
      " \n",
      "Python  Data  Structures  | Coursera  -\n",
      "07 novembre 2020\n",
      "Fundamentals  of Reinforcement  Learning  | Coursera  -\n",
      "17 décembre 2020\n",
      "Sample-based  Learning  Methods  | Coursera\n",
      "28  décembre 2020\n",
      "Getting  Started With  Spring  Boot| Amigoscode\n",
      "24 mars  2021\n",
      "----------------------------\n"
     ]
    }
   ],
   "source": [
    "segment = segment(5,'Uses/Resume/aa.pdf')\n",
    "for cle in segment:\n",
    "  print(f'section : {cle}')\n",
    "  print(segment[cle])\n",
    "  print('----------------------------')"
   ]
  },
  {
   "cell_type": "code",
   "execution_count": null,
   "metadata": {},
   "outputs": [],
   "source": []
  }
 ],
 "metadata": {
  "colab": {
   "authorship_tag": "ABX9TyN2IbN1/Ll4I1cGPFCWHM/O",
   "mount_file_id": "1Omq3m05atL0WAoLn6HWCZ8M2O9J9xKeG",
   "name": "pdf_to_csv.ipynb",
   "provenance": []
  },
  "kernelspec": {
   "display_name": "Python 3",
   "language": "python",
   "name": "python3"
  },
  "language_info": {
   "codemirror_mode": {
    "name": "ipython",
    "version": 3
   },
   "file_extension": ".py",
   "mimetype": "text/x-python",
   "name": "python",
   "nbconvert_exporter": "python",
   "pygments_lexer": "ipython3",
   "version": "3.8.5"
  }
 },
 "nbformat": 4,
 "nbformat_minor": 1
}
