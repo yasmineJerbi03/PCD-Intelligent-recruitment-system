{
 "cells": [
  {
   "cell_type": "markdown",
   "metadata": {
    "id": "hjJDBXNkSD90"
   },
   "source": [
    "# Dataset preaparing"
   ]
  },
  {
   "cell_type": "code",
   "execution_count": 1,
   "metadata": {
    "id": "y-f6DvefNyAL"
   },
   "outputs": [],
   "source": [
    "import pandas as pd\n",
    "import numpy as np"
   ]
  },
  {
   "cell_type": "markdown",
   "metadata": {
    "id": "c1iNCs_QHlip"
   },
   "source": [
    "# Neural Network"
   ]
  },
  {
   "cell_type": "code",
   "execution_count": 2,
   "metadata": {
    "id": "kOHZjiCLkKM5"
   },
   "outputs": [],
   "source": [
    "import pandas as pd\n",
    "import matplotlib.pyplot as plt\n",
    "import sklearn\n",
    "\n",
    "from sklearn.model_selection import train_test_split\n",
    "from sklearn.metrics import mean_squared_error\n",
    "from math import sqrt\n",
    "\n",
    "import keras\n",
    "from keras.models import Sequential\n",
    "from keras.layers import Dense\n",
    "from keras.utils import to_categorical "
   ]
  },
  {
   "cell_type": "code",
   "execution_count": 3,
   "metadata": {
    "colab": {
     "base_uri": "https://localhost:8080/"
    },
    "executionInfo": {
     "elapsed": 783,
     "status": "ok",
     "timestamp": 1619050055718,
     "user": {
      "displayName": "Jerbi Yasmine",
      "photoUrl": "",
      "userId": "07525402250158164188"
     },
     "user_tz": -60
    },
    "id": "vVir449wkEha",
    "outputId": "946c0a9b-0b40-4a2d-a613-c215f7b02585"
   },
   "outputs": [
    {
     "name": "stdout",
     "output_type": "stream",
     "text": [
      "         0    1    2     3    4    5    6    7\n",
      "0      1.0  1.0  0.0   3.0  0.0  3.0  0.0  0.0\n",
      "1      0.0  0.0  0.0   2.0  0.0  2.0  0.0  0.0\n",
      "2      1.0  1.0  0.0   2.0  0.0  1.0  1.0  0.0\n",
      "3      0.0  0.0  1.0   7.0  2.0  1.0  0.0  0.0\n",
      "4      0.0  0.0  1.0  30.0  7.0  9.0  0.0  0.0\n",
      "...    ...  ...  ...   ...  ...  ...  ...  ...\n",
      "76431  1.0  1.0  1.0   2.0  0.0  2.0  1.0  1.0\n",
      "76432  0.0  0.0  1.0   5.0  0.0  4.0  0.0  0.0\n",
      "76433  0.0  0.0  1.0   3.0  0.0  3.0  0.0  0.0\n",
      "76434  0.0  0.0  1.0   5.0  0.0  4.0  0.0  0.0\n",
      "76435  0.0  0.0  1.0   1.0  0.0  1.0  0.0  0.0\n",
      "\n",
      "[76436 rows x 8 columns]\n"
     ]
    }
   ],
   "source": [
    "df=pd.read_csv(\"Uses/Resume/dataset_cv.csv\",header=None)\n",
    "print(df)"
   ]
  },
  {
   "cell_type": "code",
   "execution_count": 4,
   "metadata": {
    "id": "0AUJ49Jvklmw"
   },
   "outputs": [],
   "source": [
    "x = df.drop(0,axis=1)\n",
    "y= df[0]"
   ]
  },
  {
   "cell_type": "code",
   "execution_count": 5,
   "metadata": {
    "id": "xkw84bpkldor"
   },
   "outputs": [],
   "source": [
    "model = Sequential()\n",
    "model.add(Dense(12, activation='relu', input_dim=7))\n",
    "model.add(Dense(6, activation='relu'))\n",
    "model.add(Dense(2, activation='softmax'))\n",
    "\n",
    "# Compile the model\n",
    "model.compile(optimizer='adam', \n",
    "              loss='categorical_crossentropy', \n",
    "              metrics=['accuracy'])"
   ]
  },
  {
   "cell_type": "code",
   "execution_count": 6,
   "metadata": {},
   "outputs": [
    {
     "name": "stdout",
     "output_type": "stream",
     "text": [
      "Requirement already satisfied: imbalanced-learn==0.7.0 in c:\\users\\hp\\anaconda3\\lib\\site-packages (0.7.0)\n",
      "Requirement already satisfied: scikit-learn>=0.23 in c:\\users\\hp\\anaconda3\\lib\\site-packages (from imbalanced-learn==0.7.0) (0.24.1)\n",
      "Requirement already satisfied: scipy>=0.19.1 in c:\\users\\hp\\anaconda3\\lib\\site-packages (from imbalanced-learn==0.7.0) (1.6.2)\n",
      "Requirement already satisfied: joblib>=0.11 in c:\\users\\hp\\anaconda3\\lib\\site-packages (from imbalanced-learn==0.7.0) (1.0.1)\n",
      "Requirement already satisfied: numpy>=1.13.3 in c:\\users\\hp\\anaconda3\\lib\\site-packages (from imbalanced-learn==0.7.0) (1.19.2)\n",
      "Requirement already satisfied: threadpoolctl>=2.0.0 in c:\\users\\hp\\anaconda3\\lib\\site-packages (from scikit-learn>=0.23->imbalanced-learn==0.7.0) (2.1.0)\n",
      "Note: you may need to restart the kernel to use updated packages.\n"
     ]
    }
   ],
   "source": [
    "pip install imbalanced-learn==0.7.0\n"
   ]
  },
  {
   "cell_type": "code",
   "execution_count": 7,
   "metadata": {
    "colab": {
     "base_uri": "https://localhost:8080/"
    },
    "executionInfo": {
     "elapsed": 36634,
     "status": "ok",
     "timestamp": 1619050097498,
     "user": {
      "displayName": "Jerbi Yasmine",
      "photoUrl": "",
      "userId": "07525402250158164188"
     },
     "user_tz": -60
    },
    "id": "P7dveeB_b28C",
    "outputId": "16fd100b-2c88-47a9-eb39-39ea93006fbd"
   },
   "outputs": [],
   "source": [
    "from imblearn.combine import SMOTETomek\n",
    "import collections\n",
    "\n",
    "smt = SMOTETomek()\n",
    "X_smt, y_smt = smt.fit_sample(x, y)\n",
    "\n"
   ]
  },
  {
   "cell_type": "code",
   "execution_count": 8,
   "metadata": {
    "id": "ks_MkKrTiHtm"
   },
   "outputs": [
    {
     "ename": "NameError",
     "evalue": "name 'scale' is not defined",
     "output_type": "error",
     "traceback": [
      "\u001b[1;31m---------------------------------------------------------------------------\u001b[0m",
      "\u001b[1;31mNameError\u001b[0m                                 Traceback (most recent call last)",
      "\u001b[1;32m<ipython-input-8-8ed3fe3534f6>\u001b[0m in \u001b[0;36m<module>\u001b[1;34m\u001b[0m\n\u001b[1;32m----> 1\u001b[1;33m \u001b[0mx\u001b[0m \u001b[1;33m=\u001b[0m \u001b[0mscale\u001b[0m\u001b[1;33m(\u001b[0m\u001b[0mX_smt\u001b[0m\u001b[1;33m)\u001b[0m\u001b[1;33m\u001b[0m\u001b[1;33m\u001b[0m\u001b[0m\n\u001b[0m\u001b[0;32m      2\u001b[0m \u001b[0mx_train_smt\u001b[0m\u001b[1;33m,\u001b[0m \u001b[0mx_test_smt\u001b[0m\u001b[1;33m,\u001b[0m \u001b[0my_train_smt\u001b[0m\u001b[1;33m,\u001b[0m \u001b[0my_test_smt\u001b[0m \u001b[1;33m=\u001b[0m \u001b[0mtrain_test_split\u001b[0m\u001b[1;33m(\u001b[0m\u001b[0mX_smt\u001b[0m\u001b[1;33m,\u001b[0m \u001b[0my_smt\u001b[0m\u001b[1;33m,\u001b[0m \u001b[0mtest_size\u001b[0m\u001b[1;33m=\u001b[0m\u001b[1;36m0.30\u001b[0m\u001b[1;33m,\u001b[0m \u001b[0mrandom_state\u001b[0m\u001b[1;33m=\u001b[0m\u001b[1;36m42\u001b[0m\u001b[1;33m)\u001b[0m\u001b[1;33m\u001b[0m\u001b[1;33m\u001b[0m\u001b[0m\n",
      "\u001b[1;31mNameError\u001b[0m: name 'scale' is not defined"
     ]
    }
   ],
   "source": [
    "x = scale(X_smt)\n",
    "x_train_smt, x_test_smt, y_train_smt, y_test_smt = train_test_split(X_smt, y_smt, test_size=0.30, random_state=42)"
   ]
  },
  {
   "cell_type": "code",
   "execution_count": null,
   "metadata": {
    "id": "Hg9eTGpAiVnY"
   },
   "outputs": [],
   "source": [
    "y_train_smt = to_categorical(y_train_smt)"
   ]
  },
  {
   "cell_type": "code",
   "execution_count": null,
   "metadata": {
    "colab": {
     "base_uri": "https://localhost:8080/"
    },
    "executionInfo": {
     "elapsed": 76451,
     "status": "ok",
     "timestamp": 1619049675027,
     "user": {
      "displayName": "Jerbi Yasmine",
      "photoUrl": "",
      "userId": "07525402250158164188"
     },
     "user_tz": -60
    },
    "id": "pnX3SXFEib-i",
    "outputId": "f4563462-934e-4b97-c2a9-a3986a90c604"
   },
   "outputs": [],
   "source": [
    "model.fit(x_train_smt,y_train_smt,validation_split=0.35, epochs=10)"
   ]
  },
  {
   "cell_type": "code",
   "execution_count": null,
   "metadata": {
    "id": "MuYrcVMerNy-"
   },
   "outputs": [],
   "source": [
    "model.save('/content/drive/MyDrive/PCD/cv_analysis/Uses/models/modelafterwork.h5')"
   ]
  },
  {
   "cell_type": "code",
   "execution_count": null,
   "metadata": {
    "id": "Jci8sVpArmM8"
   },
   "outputs": [],
   "source": [
    "from tensorflow.keras.models import load_model\n",
    "saved_model = load_model('/content/drive/MyDrive/PCD/cv_analysis/Uses/models/modelafterwork.h5')"
   ]
  },
  {
   "cell_type": "code",
   "execution_count": null,
   "metadata": {
    "id": "n0-j1X7R74Fe"
   },
   "outputs": [],
   "source": []
  },
  {
   "cell_type": "code",
   "execution_count": null,
   "metadata": {
    "colab": {
     "base_uri": "https://localhost:8080/"
    },
    "executionInfo": {
     "elapsed": 1754,
     "status": "ok",
     "timestamp": 1619050117379,
     "user": {
      "displayName": "Jerbi Yasmine",
      "photoUrl": "",
      "userId": "07525402250158164188"
     },
     "user_tz": -60
    },
    "id": "BGQLx4IT2tsZ",
    "outputId": "71f387a9-6766-4983-e3b1-ecdfbcf9fe39"
   },
   "outputs": [],
   "source": [
    "predictions = saved_model.predict(x_test_smt ,batch_size=30)\n",
    "print(x_test_smt.shape)"
   ]
  },
  {
   "cell_type": "code",
   "execution_count": null,
   "metadata": {
    "colab": {
     "base_uri": "https://localhost:8080/"
    },
    "executionInfo": {
     "elapsed": 754,
     "status": "ok",
     "timestamp": 1619050119760,
     "user": {
      "displayName": "Jerbi Yasmine",
      "photoUrl": "",
      "userId": "07525402250158164188"
     },
     "user_tz": -60
    },
    "id": "9hW9N0623YRU",
    "outputId": "df5f9c2a-788a-4aa2-fb5b-0f4b57ec9e45"
   },
   "outputs": [],
   "source": [
    "import numpy as np\n",
    "p =np.argmax(predictions, axis=1)\n",
    "print(p)\n",
    "print(len(p))\n",
    "print(type(p))"
   ]
  },
  {
   "cell_type": "code",
   "execution_count": null,
   "metadata": {
    "id": "3DueyI3c3cnO"
   },
   "outputs": [],
   "source": [
    "from sklearn.metrics import confusion_matrix , accuracy_score , classification_report\n",
    "from sklearn.metrics import plot_confusion_matrix\n",
    "cm = confusion_matrix(y_true = y_test_smt, y_pred=p)"
   ]
  },
  {
   "cell_type": "code",
   "execution_count": null,
   "metadata": {
    "colab": {
     "base_uri": "https://localhost:8080/"
    },
    "executionInfo": {
     "elapsed": 621,
     "status": "ok",
     "timestamp": 1619050125809,
     "user": {
      "displayName": "Jerbi Yasmine",
      "photoUrl": "",
      "userId": "07525402250158164188"
     },
     "user_tz": -60
    },
    "id": "6Zj0aQpt3ivg",
    "outputId": "ab412398-0b4e-4cfb-f5ce-fd3032381b5e"
   },
   "outputs": [],
   "source": [
    "print(cm)"
   ]
  },
  {
   "cell_type": "code",
   "execution_count": null,
   "metadata": {
    "colab": {
     "base_uri": "https://localhost:8080/"
    },
    "executionInfo": {
     "elapsed": 728,
     "status": "ok",
     "timestamp": 1619050127435,
     "user": {
      "displayName": "Jerbi Yasmine",
      "photoUrl": "",
      "userId": "07525402250158164188"
     },
     "user_tz": -60
    },
    "id": "FDoqyXJg3nNJ",
    "outputId": "843bbd54-716e-4cd0-97e6-07cdaf6e4ed2"
   },
   "outputs": [],
   "source": [
    "print(accuracy_score(y_test_smt,p))"
   ]
  },
  {
   "cell_type": "code",
   "execution_count": null,
   "metadata": {
    "colab": {
     "base_uri": "https://localhost:8080/"
    },
    "executionInfo": {
     "elapsed": 676,
     "status": "ok",
     "timestamp": 1619050129381,
     "user": {
      "displayName": "Jerbi Yasmine",
      "photoUrl": "",
      "userId": "07525402250158164188"
     },
     "user_tz": -60
    },
    "id": "vC9xHOjC3tmq",
    "outputId": "8cac25d9-87ae-4be2-f9e2-9328c910db10"
   },
   "outputs": [],
   "source": [
    "print(classification_report(y_test_smt,p))"
   ]
  },
  {
   "cell_type": "code",
   "execution_count": null,
   "metadata": {
    "colab": {
     "base_uri": "https://localhost:8080/"
    },
    "executionInfo": {
     "elapsed": 630,
     "status": "ok",
     "timestamp": 1619050132561,
     "user": {
      "displayName": "Jerbi Yasmine",
      "photoUrl": "",
      "userId": "07525402250158164188"
     },
     "user_tz": -60
    },
    "id": "8bY7QFfs26hf",
    "outputId": "1e21be61-840e-4c20-ead9-d3c8c7270b88"
   },
   "outputs": [],
   "source": [
    "from sklearn.metrics import precision_score ,recall_score ,accuracy_score\n",
    "print(precision_score(y_test_smt,p))\n",
    "print(recall_score(y_test_smt,p))\n",
    "print(accuracy_score(y_test_smt,p))\n"
   ]
  },
  {
   "cell_type": "code",
   "execution_count": null,
   "metadata": {
    "id": "WQOTau7s35Lj"
   },
   "outputs": [],
   "source": [
    "import seaborn as sn"
   ]
  },
  {
   "cell_type": "code",
   "execution_count": null,
   "metadata": {
    "colab": {
     "base_uri": "https://localhost:8080/",
     "height": 265
    },
    "executionInfo": {
     "elapsed": 942,
     "status": "ok",
     "timestamp": 1619050136305,
     "user": {
      "displayName": "Jerbi Yasmine",
      "photoUrl": "",
      "userId": "07525402250158164188"
     },
     "user_tz": -60
    },
    "id": "cI2Ww6RJ387r",
    "outputId": "78761bfb-2e73-41fa-affa-fefa96541ba4"
   },
   "outputs": [],
   "source": [
    "ax= plt.subplot()\n",
    "sn.heatmap(cm, annot=True, fmt='g', ax=ax , cmap=\"Blues\");"
   ]
  },
  {
   "cell_type": "code",
   "execution_count": null,
   "metadata": {
    "id": "pRGRsEA8qu0A"
   },
   "outputs": [],
   "source": []
  },
  {
   "cell_type": "code",
   "execution_count": null,
   "metadata": {
    "id": "MKWk1WldazNT"
   },
   "outputs": [],
   "source": [
    "p2 = np.argmax(pr,axis =1)"
   ]
  },
  {
   "cell_type": "markdown",
   "metadata": {
    "id": "I8M63LXxbRhI"
   },
   "source": []
  },
  {
   "cell_type": "markdown",
   "metadata": {
    "id": "kdBZLVRIbUYS"
   },
   "source": [
    "7 8 11 13 17 21 "
   ]
  },
  {
   "cell_type": "code",
   "execution_count": null,
   "metadata": {
    "colab": {
     "base_uri": "https://localhost:8080/"
    },
    "executionInfo": {
     "elapsed": 1263,
     "status": "ok",
     "timestamp": 1619049845012,
     "user": {
      "displayName": "Jerbi Yasmine",
      "photoUrl": "",
      "userId": "07525402250158164188"
     },
     "user_tz": -60
    },
    "id": "JjbLHs67bAuZ",
    "outputId": "944ef5a8-7fa2-4158-a0dd-a209df23fcf8"
   },
   "outputs": [],
   "source": [
    "for i in range (0,len(p2)):\n",
    "  print (f'{i+2} ==> {p2[i]}')"
   ]
  },
  {
   "cell_type": "code",
   "execution_count": null,
   "metadata": {},
   "outputs": [],
   "source": [
    "model.add(layers.experimental.preprocessing.Rescaling(1./255, input_shape=(200,200, 3)))\n",
    "model.add(layers.Conv2D(32, kernel_size=(3, 3), activation='relu'))\n",
    "model.add(layers.MaxPooling2D(pool_size=(2, 2)))\n",
    "model.add(layers.Dropout(0.25))\n",
    "model.add(layers.Conv2D(32, kernel_size=(3, 3), activation='relu'))\n",
    "model.add(layers.MaxPooling2D(pool_size=(2, 2)))\n",
    "model.add(layers.Conv2D(64, kernel_size=(3, 3), activation='relu'))\n",
    "model.add(layers.MaxPooling2D(pool_size=(2, 2)))\n",
    "model.add(layers.Dropout(0.2))\n",
    "model.add(layers.Flatten())\n",
    "model.add(layers.Dense(160, activation='relu'))\n",
    "model.add(layers.Dense(128, activation='relu'))\n",
    "model.add(layers.Dense(50, activation='relu'))\n",
    "model.add(layers.Dense(30, activation='relu'))\n",
    "model.add(layers.Dense(1, activation='sigmoid'))"
   ]
  }
 ],
 "metadata": {
  "colab": {
   "authorship_tag": "ABX9TyMrt5NTdt/V9l3rvd50m6If",
   "collapsed_sections": [],
   "mount_file_id": "1xYHiMuhyol2uDZ6wGVJuNUTprowpVczr",
   "name": "Neural_network.ipynb",
   "provenance": [
    {
     "file_id": "1agmu-vqnL7EPMAkSxh2gO_rKzL8JmCFg",
     "timestamp": 1619016687716
    },
    {
     "file_id": "1i0NBs6yDmvafn1-qUfuc2vmCG5aePQEU",
     "timestamp": 1618821342485
    }
   ]
  },
  "kernelspec": {
   "display_name": "Python 3",
   "language": "python",
   "name": "python3"
  },
  "language_info": {
   "codemirror_mode": {
    "name": "ipython",
    "version": 3
   },
   "file_extension": ".py",
   "mimetype": "text/x-python",
   "name": "python",
   "nbconvert_exporter": "python",
   "pygments_lexer": "ipython3",
   "version": "3.8.5"
  }
 },
 "nbformat": 4,
 "nbformat_minor": 1
}
