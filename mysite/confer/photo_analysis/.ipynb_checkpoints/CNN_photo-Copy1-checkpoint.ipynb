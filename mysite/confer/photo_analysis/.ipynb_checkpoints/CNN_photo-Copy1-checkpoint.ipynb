{
 "cells": [
  {
   "cell_type": "code",
   "execution_count": null,
   "metadata": {
    "id": "L1WtoaOHVrVh"
   },
   "outputs": [],
   "source": [
    "import matplotlib.pyplot as plt\n",
    "import numpy as np\n",
    "import os\n",
    "import PIL\n",
    "import tensorflow as tf\n",
    "\n",
    "from tensorflow import keras\n",
    "from tensorflow.keras import layers\n",
    "from tensorflow.keras.models import Sequential"
   ]
  },
  {
   "cell_type": "code",
   "execution_count": null,
   "metadata": {
    "id": "18lYZaR1XPGx"
   },
   "outputs": [],
   "source": [
    "data_dir = 'dataset\\\\photo\\\\train'"
   ]
  },
  {
   "cell_type": "code",
   "execution_count": null,
   "metadata": {
    "colab": {
     "base_uri": "https://localhost:8080/",
     "height": 388
    },
    "id": "fIR0kRZiI_AT",
    "outputId": "731adea1-3217-4ded-e524-acb69e5b0048"
   },
   "outputs": [],
   "source": [
    "train_ds = tf.keras.preprocessing.image_dataset_from_directory(\n",
    "  data_dir,\n",
    "  validation_split=0.2,\n",
    "  subset=\"training\",\n",
    "  seed=123,\n",
    "  image_size=(200,200))\n",
    "\n"
   ]
  },
  {
   "cell_type": "code",
   "execution_count": null,
   "metadata": {
    "colab": {
     "base_uri": "https://localhost:8080/"
    },
    "id": "iscU3UoVJBXj",
    "outputId": "8b213902-e915-4bd9-8a2a-c41e91840036"
   },
   "outputs": [],
   "source": [
    "val_ds = tf.keras.preprocessing.image_dataset_from_directory(\n",
    "  data_dir,\n",
    "  validation_split=0.2,\n",
    "  subset=\"validation\",\n",
    "  seed=123,\n",
    "  image_size=(200,200))"
   ]
  },
  {
   "cell_type": "code",
   "execution_count": null,
   "metadata": {
    "id": "PEYxo2CTJvY9"
   },
   "outputs": [],
   "source": [
    "#normalization_layer = layers.experimental.preprocessing.Rescaling(1./255)"
   ]
  },
  {
   "cell_type": "code",
   "execution_count": null,
   "metadata": {
    "id": "X9o9ESaJJ502"
   },
   "outputs": [],
   "source": [
    "#normalized_ds = train_ds.map(lambda x, y: (normalization_layer(x), y))"
   ]
  },
  {
   "cell_type": "code",
   "execution_count": null,
   "metadata": {
    "id": "w2v1u_V9XPG0"
   },
   "outputs": [],
   "source": [
    "model = Sequential()\n"
   ]
  },
  {
   "cell_type": "code",
   "execution_count": null,
   "metadata": {
    "id": "GcT4JJBrXPG0"
   },
   "outputs": [],
   "source": [
    "model.add(layers.experimental.preprocessing.RandomFlip(\"horizontal\", \n",
    "                                                 input_shape=(200, \n",
    "                                                              200,\n",
    "                                                              3)))\n",
    "model.add(layers.experimental.preprocessing.Rescaling(1./255))\n",
    "model.add(layers.Conv2D(32, kernel_size=(3, 3), activation='relu'))\n",
    "model.add(layers.MaxPooling2D(pool_size=(2, 2)))\n",
    "model.add(layers.Dropout(0.25))\n",
    "model.add(layers.Conv2D(32, kernel_size=(3, 3), activation='relu'))\n",
    "model.add(layers.MaxPooling2D(pool_size=(2, 2)))\n",
    "model.add(layers.Conv2D(64, kernel_size=(3, 3), activation='relu'))\n",
    "model.add(layers.MaxPooling2D(pool_size=(2, 2)))\n",
    "model.add(layers.Dropout(0.2))\n",
    "model.add(layers.Flatten())\n",
    "model.add(layers.Dense(160, activation='relu'))\n",
    "model.add(layers.Dense(128, activation='relu'))\n",
    "model.add(layers.Dense(50, activation='relu'))\n",
    "model.add(layers.Dense(30, activation='relu'))\n",
    "model.add(layers.Dense(1, activation='sigmoid'))"
   ]
  },
  {
   "cell_type": "code",
   "execution_count": null,
   "metadata": {},
   "outputs": [],
   "source": [
    "data_augmentation = keras.Sequential(\n",
    "  [\n",
    "    layers.experimental.preprocessing.RandomFlip(\"horizontal\", \n",
    "                                                 input_shape=(200, \n",
    "                                                              200,\n",
    "                                                              3))])"
   ]
  },
  {
   "cell_type": "code",
   "execution_count": null,
   "metadata": {},
   "outputs": [],
   "source": [
    "plt.figure(figsize=(10, 10))\n",
    "for images, _ in train_ds.take(1):\n",
    "  for i in range(2):\n",
    "    augmented_images = data_augmentation(images)\n",
    "    ax = plt.subplot(3, 3, i + 1)\n",
    "    plt.imshow(augmented_images[0].numpy().astype(\"uint8\"))\n",
    "    plt.axis(\"off\")"
   ]
  },
  {
   "cell_type": "code",
   "execution_count": null,
   "metadata": {},
   "outputs": [],
   "source": [
    "import numpy as np\n",
    "from keras.preprocessing import image\n",
    "img = image.load_img('dataset\\\\photo\\\\test\\\\mauvaise\\\\6.jpg', target_size=(200,200))\n",
    "x = image.img_to_array(img)\n",
    "print(x)\n",
    "a = model.add(layers.experimental.preprocessing.Rescaling(1./255))\n",
    "print(a)\n",
    "x = np.expand_dims(x, axis=0)\n",
    "images = np.vstack([x])"
   ]
  },
  {
   "cell_type": "code",
   "execution_count": null,
   "metadata": {
    "id": "QR6argA1K074",
    "outputId": "88f9675f-416b-4cbd-c780-258fe312c286"
   },
   "outputs": [],
   "source": [
    "print(model.summary())"
   ]
  },
  {
   "cell_type": "code",
   "execution_count": null,
   "metadata": {
    "id": "jloGNS1MLx3A"
   },
   "outputs": [],
   "source": [
    "model.compile(optimizer=keras.optimizers.Adam(lr=0.001),\n",
    "              loss='binary_crossentropy',\n",
    "              metrics=['accuracy'])"
   ]
  },
  {
   "cell_type": "code",
   "execution_count": null,
   "metadata": {
    "id": "1k50nUybXPG2",
    "outputId": "7658f690-64ac-453a-d76e-1bb045b76b01"
   },
   "outputs": [],
   "source": [
    "print(model)"
   ]
  },
  {
   "cell_type": "code",
   "execution_count": null,
   "metadata": {
    "colab": {
     "base_uri": "https://localhost:8080/"
    },
    "id": "5fWToCqYMErH",
    "outputId": "5c948989-afb1-41eb-8aa7-fd4d1fde5007"
   },
   "outputs": [],
   "source": [
    "history = model.fit(\n",
    "  train_ds,\n",
    "  validation_data=val_ds,\n",
    "  epochs=10,\n",
    ")"
   ]
  },
  {
   "cell_type": "code",
   "execution_count": null,
   "metadata": {
    "id": "-pBgOfRaXPG2"
   },
   "outputs": [],
   "source": []
  },
  {
   "cell_type": "code",
   "execution_count": 2,
   "metadata": {
    "id": "fyODH_QmXPG3"
   },
   "outputs": [],
   "source": [
    "import numpy as np\n",
    "from tensorflow.keras.models import load_model\n",
    "import numpy as np\n",
    "import os\n",
    "from keras.preprocessing import image\n",
    "model = load_model('models/CNN_model.h5')"
   ]
  },
  {
   "cell_type": "code",
   "execution_count": 3,
   "metadata": {
    "id": "9TCZsyiqXPG3",
    "outputId": "3ffd9e12-2058-449e-c63f-ddcff2547b61"
   },
   "outputs": [],
   "source": [
    "\n",
    "def tester_photo_classification(path_img):\n",
    "    img = image.load_img(path_img, target_size=(200,200))\n",
    "    img.show()\n",
    "    x = image.img_to_array(img)\n",
    "    x = np.expand_dims(x, axis=0)\n",
    "    images = np.vstack([x])\n",
    "    classes = model.predict(images)\n",
    "    print(classes[0][0])\n",
    "    if(classes[0][0]>0.5):\n",
    "        print('Not Professional')\n",
    "    else:\n",
    "        print('Professional')\n",
    "\n"
   ]
  },
  {
   "cell_type": "code",
   "execution_count": null,
   "metadata": {},
   "outputs": [],
   "source": [
    "tester_photo_classification('dataset\\\\photo\\\\bad.jpg')\n",
    "print('-------------------------------------------------')\n",
    "tester_photo_classification('dataset\\\\photo\\\\good.jpg')"
   ]
  },
  {
   "cell_type": "code",
   "execution_count": null,
   "metadata": {
    "id": "WE89WJTtXPG3",
    "outputId": "00875dfa-38b1-4834-d33c-2c365f16eff7"
   },
   "outputs": [],
   "source": [
    "list_test = []\n",
    "for i in range (0,50):\n",
    "    list_test.append(0)\n",
    "for j in range (0,45):\n",
    "    list_test.append(1)\n",
    "print(list_test)\n"
   ]
  },
  {
   "cell_type": "code",
   "execution_count": null,
   "metadata": {
    "id": "PJHAS1jvXPG4",
    "outputId": "63e411df-9f83-4984-fe35-72cd7c030681"
   },
   "outputs": [],
   "source": [
    "from tensorflow.keras.models import load_model\n",
    "import numpy as np\n",
    "import os\n",
    "from keras.preprocessing import image\n",
    "model = load_model('confer/photo_analysis/models/CNN_model.h5')\n",
    "list_test_0 = os.listdir('dataset\\\\photo\\\\test\\\\bonne')\n",
    "list_test_1 = os.listdir('dataset\\\\photo\\\\test\\\\mauvaise')\n",
    "list_test_pred = []\n",
    "for i in range(0,50):\n",
    "    img = image.load_img(f'dataset\\\\photo\\\\test\\\\bonne\\\\{list_test_0[i]}', target_size=(200,200))\n",
    "    x = image.img_to_array(img)\n",
    "    x = np.expand_dims(x, axis=0)\n",
    "    images = np.vstack([x])\n",
    "    prediction = model.predict(images)\n",
    "    if (prediction[0][0]<0.5):\n",
    "        list_test_pred.append(0)\n",
    "    else :\n",
    "        list_test_pred.append(1)\n",
    "\n",
    "\n",
    "for i in range(0,45):\n",
    "    img = image.load_img(f'dataset\\\\photo\\\\test\\\\mauvaise\\\\{list_test_1[i]}', target_size=(200,200))\n",
    "    x = image.img_to_array(img)\n",
    "    x = np.expand_dims(x, axis=0)\n",
    "    images = np.vstack([x])\n",
    "    prediction = model.predict(images)\n",
    "    if (prediction[0][0]<0.5):\n",
    "        list_test_pred.append(0)\n",
    "    else :\n",
    "        list_test_pred.append(1)\n",
    "\n"
   ]
  },
  {
   "cell_type": "code",
   "execution_count": null,
   "metadata": {
    "id": "FBE5SMhuXPG5",
    "outputId": "0e460b9e-40d9-4c45-c5b8-8986f14ad833"
   },
   "outputs": [],
   "source": [
    "acc = history.history['accuracy']\n",
    "val_acc = history.history['val_accuracy']\n",
    "\n",
    "loss = history.history['loss']\n",
    "val_loss = history.history['val_loss']\n",
    "\n",
    "epochs_range = range(10)\n",
    "\n",
    "plt.figure(figsize=(8, 8))\n",
    "plt.subplot(1, 2, 1)\n",
    "plt.plot(epochs_range, acc, label='Training Accuracy')\n",
    "plt.plot(epochs_range, val_acc, label='Validation Accuracy')\n",
    "plt.legend(loc='lower right')\n",
    "plt.title('Training and Validation Accuracy')\n",
    "\n",
    "plt.subplot(1, 2, 2)\n",
    "plt.plot(epochs_range, loss, label='Training Loss')\n",
    "plt.plot(epochs_range, val_loss, label='Validation Loss')\n",
    "plt.legend(loc='upper right')\n",
    "plt.title('Training and Validation Loss')\n",
    "plt.show()"
   ]
  },
  {
   "cell_type": "code",
   "execution_count": null,
   "metadata": {
    "id": "q7agUxTzXPG6"
   },
   "outputs": [],
   "source": []
  },
  {
   "cell_type": "code",
   "execution_count": null,
   "metadata": {
    "id": "-MxIi06ZXPG6"
   },
   "outputs": [],
   "source": []
  }
 ],
 "metadata": {
  "accelerator": "GPU",
  "colab": {
   "collapsed_sections": [],
   "name": "CNN_photo.ipynb",
   "provenance": [],
   "toc_visible": true
  },
  "kernelspec": {
   "display_name": "Python 3",
   "language": "python",
   "name": "python3"
  },
  "language_info": {
   "codemirror_mode": {
    "name": "ipython",
    "version": 3
   },
   "file_extension": ".py",
   "mimetype": "text/x-python",
   "name": "python",
   "nbconvert_exporter": "python",
   "pygments_lexer": "ipython3",
   "version": "3.8.5"
  }
 },
 "nbformat": 4,
 "nbformat_minor": 1
}
